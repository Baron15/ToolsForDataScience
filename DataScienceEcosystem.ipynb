{
 "cells": [
  {
   "cell_type": "markdown",
   "id": "6803e0e4-9ea9-4e8d-a776-b67aaa040315",
   "metadata": {},
   "source": [
    "# DataScienceEcosystem"
   ]
  },
  {
   "cell_type": "markdown",
   "id": "b07d1fa9-43f7-4198-92ad-fb60d772a587",
   "metadata": {},
   "source": [
    "In this notebook, Data Science Tools and Ecosystem are summarized."
   ]
  },
  {
   "cell_type": "markdown",
   "id": "82852a8f-a6b2-46e1-9223-3749187aa2a6",
   "metadata": {},
   "source": [
    "**Objectives:**"
   ]
  },
  {
   "cell_type": "markdown",
   "id": "bf9115d1-27c0-4382-b05f-b769fceb3bc5",
   "metadata": {},
   "source": [
    "* List popular languages\n",
    "* List common libraries\n",
    "* List data science tools\n",
    "* evaluate expressions"
   ]
  },
  {
   "cell_type": "markdown",
   "id": "36b123ae-6013-495e-a7ef-0d8e323f3605",
   "metadata": {},
   "source": [
    "Some of the popular languages that Data Scientists use are:"
   ]
  },
  {
   "cell_type": "markdown",
   "id": "7c5fc1a0-fdcc-4273-9090-8a1a74d0adeb",
   "metadata": {},
   "source": [
    "1. Python\n",
    "2. R\n",
    "3. SQL\n",
    "4. Scala\n",
    "5. Java\n",
    "6. C++\n",
    "7. Julia"
   ]
  },
  {
   "cell_type": "markdown",
   "id": "34cf428f-d371-4fac-9cbe-49e28869d3bf",
   "metadata": {},
   "source": [
    "Some of the commonly used libraries used by Data Scientists include:"
   ]
  },
  {
   "cell_type": "markdown",
   "id": "9cf73562-a201-49b6-bb82-d5df8f0a359d",
   "metadata": {},
   "source": [
    "1. Pandas\n",
    "2. NumPy\n",
    "3. SciPy\n",
    "4. Matplotlib"
   ]
  },
  {
   "cell_type": "markdown",
   "id": "d2342832-1e3e-46e7-93a5-b1b2326de8f0",
   "metadata": {},
   "source": [
    "|Data Science Tools|\n",
    "|:---------|\n",
    "|Jupyter|\n",
    "|R Studio|\n",
    "|Microsoft Visual Studio|\n",
    " "
   ]
  },
  {
   "cell_type": "markdown",
   "id": "791d7d3a-20f3-443c-9614-a021937296b1",
   "metadata": {},
   "source": [
    "### Below are a few examples of evaluating arithmetic expressions in Python"
   ]
  },
  {
   "cell_type": "code",
   "execution_count": 36,
   "id": "9c315781-87ae-48ac-8279-ce88de813610",
   "metadata": {},
   "outputs": [
    {
     "name": "stdout",
     "output_type": "stream",
     "text": [
      "2\n",
      "7\n",
      "4\n"
     ]
    }
   ],
   "source": [
    "x = 1 + 1\n",
    "y = 2 + 5\n",
    "z = 7-3\n",
    "print (x)\n",
    "print (y)\n",
    "print (z)"
   ]
  },
  {
   "cell_type": "markdown",
   "id": "e773b99a-3cf9-4ca7-84c0-1f5ec6f8e000",
   "metadata": {},
   "source": [
    "### In this code cell evaluate the expression (3*4)+5"
   ]
  },
  {
   "cell_type": "code",
   "execution_count": 39,
   "id": "7a7cd4cc-c3a0-43c7-a344-1aacf39cf55f",
   "metadata": {},
   "outputs": [
    {
     "name": "stdout",
     "output_type": "stream",
     "text": [
      "17\n"
     ]
    }
   ],
   "source": [
    "x = (3*4)+5\n",
    "print (x)"
   ]
  },
  {
   "cell_type": "markdown",
   "id": "20f6fb79-04b3-469b-81f0-04ede65897e2",
   "metadata": {},
   "source": [
    "### In this code cell write an expression that converts 200 minutes into hours"
   ]
  },
  {
   "cell_type": "code",
   "execution_count": 44,
   "id": "f5d1054b-8a92-402b-815e-c6e129e88993",
   "metadata": {},
   "outputs": [
    {
     "name": "stdout",
     "output_type": "stream",
     "text": [
      "3.3333333333333335\n"
     ]
    }
   ],
   "source": [
    "minutes = 200\n",
    "hours = minutes/60\n",
    "print (hours)\n"
   ]
  },
  {
   "cell_type": "markdown",
   "id": "41ce971c-8c36-43e3-b232-808d878e395f",
   "metadata": {},
   "source": [
    "## Author"
   ]
  },
  {
   "cell_type": "markdown",
   "id": "b317cdbc-9462-43a6-b64a-b2786bdb0ea5",
   "metadata": {},
   "source": [
    "Jay Baronowski"
   ]
  },
  {
   "cell_type": "code",
   "execution_count": null,
   "id": "f1bf6a28-67cd-4d58-aad5-027559c61464",
   "metadata": {},
   "outputs": [],
   "source": []
  }
 ],
 "metadata": {
  "kernelspec": {
   "display_name": "Python [conda env:base] *",
   "language": "python",
   "name": "conda-base-py"
  },
  "language_info": {
   "codemirror_mode": {
    "name": "ipython",
    "version": 3
   },
   "file_extension": ".py",
   "mimetype": "text/x-python",
   "name": "python",
   "nbconvert_exporter": "python",
   "pygments_lexer": "ipython3",
   "version": "3.12.7"
  }
 },
 "nbformat": 4,
 "nbformat_minor": 5
}
