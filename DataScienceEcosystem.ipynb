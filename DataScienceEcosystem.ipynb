{
 "cells": [
  {
   "cell_type": "markdown",
   "id": "d877aec1-721b-4fdc-8834-b4fd8ff29154",
   "metadata": {},
   "source": [
    "# DataScienceEcosytem"
   ]
  },
  {
   "cell_type": "code",
   "execution_count": null,
   "id": "97c26753-edd8-41d7-8ab3-f6c4c0667903",
   "metadata": {},
   "outputs": [],
   "source": [
    "In this notebook, Data Science Tools and Ecosytems are summarized"
   ]
  },
  {
   "cell_type": "markdown",
   "id": "a0175108-0db6-423a-874e-88460bc312dc",
   "metadata": {},
   "source": [
    "**Objectives**"
   ]
  },
  {
   "cell_type": "markdown",
   "id": "0177017c-c22d-48ba-9632-f75258e77938",
   "metadata": {},
   "source": [
    "* List popular languages\n",
    "* List common libraries\n",
    "* List data science tools\n",
    "* evanluate expressions"
   ]
  },
  {
   "cell_type": "markdown",
   "id": "818b00a3-8e28-4583-b35d-ce0dae84d2e4",
   "metadata": {},
   "source": [
    "Some of the popular languages that Data Scientists use are:"
   ]
  },
  {
   "cell_type": "markdown",
   "id": "b3c2e07b-48f5-4385-ad07-5d68cdfce678",
   "metadata": {},
   "source": [
    "1. Python\n",
    "2. R\n",
    "3. SQL\n",
    "4. Scala\n",
    "5. Java\n",
    "6. C++\n",
    "7. Julia"
   ]
  },
  {
   "cell_type": "markdown",
   "id": "2e32f6e0-bd9b-4411-9daa-062a824bfaa5",
   "metadata": {},
   "source": [
    "Some of the commonly used libraries used by Data Scientists include:"
   ]
  },
  {
   "cell_type": "markdown",
   "id": "637f53fb-52e2-4e8f-8fcf-3b86be270cd6",
   "metadata": {},
   "source": [
    "1. Pandas\n",
    "2. NumPy\n",
    "3. SciPy\n",
    "4. Matplotlib"
   ]
  },
  {
   "cell_type": "markdown",
   "id": "0ce2b634-d4d1-4c16-88e5-ddcaa07fb1ab",
   "metadata": {},
   "source": [
    "|Data Science Tools|\n",
    "|:----|\n",
    "|Jupyter|\n",
    "|RStudio|\n",
    "|Microsoft Visual Studio|"
   ]
  },
  {
   "cell_type": "markdown",
   "id": "1584de59-19e4-48f9-987c-3c467db87d2d",
   "metadata": {},
   "source": [
    "### Below are a few examples of evaluating arithmetic expressions in Python"
   ]
  },
  {
   "cell_type": "code",
   "execution_count": 16,
   "id": "0e699219-e094-42df-bfa4-9ad8627e53b2",
   "metadata": {},
   "outputs": [
    {
     "name": "stdout",
     "output_type": "stream",
     "text": [
      "2\n",
      "7\n",
      "10\n"
     ]
    }
   ],
   "source": [
    "x = 1 + 1\n",
    "y = 2 + 5\n",
    "z = 7 + 3\n",
    "print (x)\n",
    "print (y)\n",
    "print (z)"
   ]
  },
  {
   "cell_type": "markdown",
   "id": "f49676dc-fde6-4a14-bf0a-715b9fc61944",
   "metadata": {},
   "source": [
    "### In this code cell evaluate the expression (3*4)+ 5"
   ]
  },
  {
   "cell_type": "code",
   "execution_count": 19,
   "id": "3bfb1b83-66d3-4ccc-b3f4-5e9f119e7e3b",
   "metadata": {},
   "outputs": [
    {
     "data": {
      "text/plain": [
       "17"
      ]
     },
     "execution_count": 19,
     "metadata": {},
     "output_type": "execute_result"
    }
   ],
   "source": [
    "(3*4)+5"
   ]
  },
  {
   "cell_type": "markdown",
   "id": "2bd863c4-9bd2-4e6c-be7d-0e9c8e8bbac2",
   "metadata": {},
   "source": [
    "### In this code cell write an expression that converts 200 minutes into hours"
   ]
  },
  {
   "cell_type": "code",
   "execution_count": 22,
   "id": "ab12696f-fccc-45d0-8903-40cec1a9e4da",
   "metadata": {},
   "outputs": [
    {
     "name": "stdout",
     "output_type": "stream",
     "text": [
      "3.3333333333333335\n"
     ]
    }
   ],
   "source": [
    "minutes = 200\n",
    "hours = minutes/60\n",
    "print (hours)"
   ]
  },
  {
   "cell_type": "markdown",
   "id": "1c41d555-67f7-4a9c-9826-825b7014739e",
   "metadata": {},
   "source": [
    "## Author"
   ]
  },
  {
   "cell_type": "markdown",
   "id": "0156eb56-a357-46cf-9ded-43da1b88980a",
   "metadata": {},
   "source": [
    "Jay Baronowski"
   ]
  },
  {
   "cell_type": "code",
   "execution_count": null,
   "id": "db24cbf1-6685-44e2-aa58-ee8b04c00997",
   "metadata": {},
   "outputs": [],
   "source": []
  }
 ],
 "metadata": {
  "kernelspec": {
   "display_name": "Python [conda env:base] *",
   "language": "python",
   "name": "conda-base-py"
  },
  "language_info": {
   "codemirror_mode": {
    "name": "ipython",
    "version": 3
   },
   "file_extension": ".py",
   "mimetype": "text/x-python",
   "name": "python",
   "nbconvert_exporter": "python",
   "pygments_lexer": "ipython3",
   "version": "3.12.7"
  },
  "panel-cell-order": [
   "b07d1fa9-43f7-4198-92ad-fb60d772a587",
   "82852a8f-a6b2-46e1-9223-3749187aa2a6",
   "bf9115d1-27c0-4382-b05f-b769fceb3bc5",
   "36b123ae-6013-495e-a7ef-0d8e323f3605",
   "7c5fc1a0-fdcc-4273-9090-8a1a74d0adeb",
   "34cf428f-d371-4fac-9cbe-49e28869d3bf",
   "9cf73562-a201-49b6-bb82-d5df8f0a359d",
   "d2342832-1e3e-46e7-93a5-b1b2326de8f0",
   "791d7d3a-20f3-443c-9614-a021937296b1",
   "9c315781-87ae-48ac-8279-ce88de813610",
   "e773b99a-3cf9-4ca7-84c0-1f5ec6f8e000",
   "7a7cd4cc-c3a0-43c7-a344-1aacf39cf55f",
   "20f6fb79-04b3-469b-81f0-04ede65897e2",
   "f5d1054b-8a92-402b-815e-c6e129e88993",
   "41ce971c-8c36-43e3-b232-808d878e395f",
   "b317cdbc-9462-43a6-b64a-b2786bdb0ea5"
  ]
 },
 "nbformat": 4,
 "nbformat_minor": 5
}
